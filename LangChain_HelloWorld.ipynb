{
  "nbformat": 4,
  "nbformat_minor": 0,
  "metadata": {
    "colab": {
      "provenance": [],
      "authorship_tag": "ABX9TyOhblGQalAAyiJggjB2VvUs",
      "include_colab_link": true
    },
    "kernelspec": {
      "name": "python3",
      "display_name": "Python 3"
    },
    "language_info": {
      "name": "python"
    }
  },
  "cells": [
    {
      "cell_type": "markdown",
      "metadata": {
        "id": "view-in-github",
        "colab_type": "text"
      },
      "source": [
        "<a href=\"https://colab.research.google.com/github/shizafatima/Quarter02_Projects/blob/main/LangChain_HelloWorld.ipynb\" target=\"_parent\"><img src=\"https://colab.research.google.com/assets/colab-badge.svg\" alt=\"Open In Colab\"/></a>"
      ]
    },
    {
      "cell_type": "code",
      "execution_count": 1,
      "metadata": {
        "colab": {
          "base_uri": "https://localhost:8080/"
        },
        "id": "xU07APSE8ff3",
        "outputId": "6fda6874-6b02-43c7-8bc8-ef046638e640",
        "collapsed": true
      },
      "outputs": [
        {
          "output_type": "stream",
          "name": "stdout",
          "text": [
            "Requirement already satisfied: google-genai in /usr/local/lib/python3.10/dist-packages (0.3.0)\n",
            "Requirement already satisfied: google-auth<3.0.0dev,>=2.14.1 in /usr/local/lib/python3.10/dist-packages (from google-genai) (2.27.0)\n",
            "Requirement already satisfied: pillow<12.0.0,>=10.0.0 in /usr/local/lib/python3.10/dist-packages (from google-genai) (11.0.0)\n",
            "Requirement already satisfied: pydantic<3.0.0dev,>=2.0.0 in /usr/local/lib/python3.10/dist-packages (from google-genai) (2.10.3)\n",
            "Requirement already satisfied: requests<3.0.0dev,>=2.28.1 in /usr/local/lib/python3.10/dist-packages (from google-genai) (2.32.3)\n",
            "Requirement already satisfied: websockets<15.0dev,>=13.0 in /usr/local/lib/python3.10/dist-packages (from google-genai) (14.1)\n",
            "Requirement already satisfied: cachetools<6.0,>=2.0.0 in /usr/local/lib/python3.10/dist-packages (from google-auth<3.0.0dev,>=2.14.1->google-genai) (5.5.0)\n",
            "Requirement already satisfied: pyasn1-modules>=0.2.1 in /usr/local/lib/python3.10/dist-packages (from google-auth<3.0.0dev,>=2.14.1->google-genai) (0.4.1)\n",
            "Requirement already satisfied: rsa<5,>=3.1.4 in /usr/local/lib/python3.10/dist-packages (from google-auth<3.0.0dev,>=2.14.1->google-genai) (4.9)\n",
            "Requirement already satisfied: annotated-types>=0.6.0 in /usr/local/lib/python3.10/dist-packages (from pydantic<3.0.0dev,>=2.0.0->google-genai) (0.7.0)\n",
            "Requirement already satisfied: pydantic-core==2.27.1 in /usr/local/lib/python3.10/dist-packages (from pydantic<3.0.0dev,>=2.0.0->google-genai) (2.27.1)\n",
            "Requirement already satisfied: typing-extensions>=4.12.2 in /usr/local/lib/python3.10/dist-packages (from pydantic<3.0.0dev,>=2.0.0->google-genai) (4.12.2)\n",
            "Requirement already satisfied: charset-normalizer<4,>=2 in /usr/local/lib/python3.10/dist-packages (from requests<3.0.0dev,>=2.28.1->google-genai) (3.4.0)\n",
            "Requirement already satisfied: idna<4,>=2.5 in /usr/local/lib/python3.10/dist-packages (from requests<3.0.0dev,>=2.28.1->google-genai) (3.10)\n",
            "Requirement already satisfied: urllib3<3,>=1.21.1 in /usr/local/lib/python3.10/dist-packages (from requests<3.0.0dev,>=2.28.1->google-genai) (2.2.3)\n",
            "Requirement already satisfied: certifi>=2017.4.17 in /usr/local/lib/python3.10/dist-packages (from requests<3.0.0dev,>=2.28.1->google-genai) (2024.12.14)\n",
            "Requirement already satisfied: pyasn1<0.7.0,>=0.4.6 in /usr/local/lib/python3.10/dist-packages (from pyasn1-modules>=0.2.1->google-auth<3.0.0dev,>=2.14.1->google-genai) (0.6.1)\n",
            "\u001b[2K   \u001b[90m━━━━━━━━━━━━━━━━━━━━━━━━━━━━━━━━━━━━━━━━\u001b[0m \u001b[32m1.0/1.0 MB\u001b[0m \u001b[31m7.5 MB/s\u001b[0m eta \u001b[36m0:00:00\u001b[0m\n",
            "\u001b[2K   \u001b[90m━━━━━━━━━━━━━━━━━━━━━━━━━━━━━━━━━━━━━━━━\u001b[0m \u001b[32m41.3/41.3 kB\u001b[0m \u001b[31m1.8 MB/s\u001b[0m eta \u001b[36m0:00:00\u001b[0m\n",
            "\u001b[2K   \u001b[90m━━━━━━━━━━━━━━━━━━━━━━━━━━━━━━━━━━━━━━━━\u001b[0m \u001b[32m411.6/411.6 kB\u001b[0m \u001b[31m14.2 MB/s\u001b[0m eta \u001b[36m0:00:00\u001b[0m\n",
            "\u001b[?25h"
          ]
        }
      ],
      "source": [
        "!pip install google-genai\n",
        "!pip install -Uq langchain langchain-google-genai"
      ]
    },
    {
      "cell_type": "code",
      "source": [
        "import langchain_google_genai as genai"
      ],
      "metadata": {
        "id": "wdvM3ajU8sIX"
      },
      "execution_count": 2,
      "outputs": []
    },
    {
      "cell_type": "code",
      "source": [
        "from langchain_google_genai import ChatGoogleGenerativeAI\n",
        "from langchain.prompts import PromptTemplate\n",
        "from langchain.chains import LLMChain"
      ],
      "metadata": {
        "id": "RMWiRuvh8vF-"
      },
      "execution_count": 3,
      "outputs": []
    },
    {
      "cell_type": "code",
      "source": [
        "from google.colab import userdata\n",
        "GOOGLE_API_KEY = userdata.get('GOOGLE_API_KEY')"
      ],
      "metadata": {
        "id": "5ijyS0TX81hq"
      },
      "execution_count": 4,
      "outputs": []
    },
    {
      "cell_type": "code",
      "source": [
        "llm : ChatGoogleGenerativeAI = ChatGoogleGenerativeAI(\n",
        "    model=\"gemini-2.0-flash-exp\",\n",
        "    api_key= GOOGLE_API_KEY,\n",
        "    temprature = 0.9,\n",
        "    max_tokens = 1000\n",
        ")\n"
      ],
      "metadata": {
        "id": "Fh3Nv7b485cN"
      },
      "execution_count": 13,
      "outputs": []
    },
    {
      "cell_type": "code",
      "source": [
        "prompt_template = PromptTemplate(\n",
        "    input_variables=[\"How can we use AI effectively in the modern era?\"],\n",
        "    template=\"You are a helpful assistant. Answer the following question:\\n\\n{question}\")"
      ],
      "metadata": {
        "id": "0Boch2Ec9H8t"
      },
      "execution_count": 18,
      "outputs": []
    },
    {
      "cell_type": "code",
      "source": [
        "chain = LLMChain(llm=llm, prompt=prompt_template)"
      ],
      "metadata": {
        "id": "a5pPrA3s9JAv"
      },
      "execution_count": 19,
      "outputs": []
    },
    {
      "cell_type": "code",
      "source": [
        "question = \"How can we use AI effectively in the modern era?\"\n",
        "response = chain.run({\"question\": question})\n",
        "\n"
      ],
      "metadata": {
        "id": "HoAd27hs9Qm_"
      },
      "execution_count": 20,
      "outputs": []
    },
    {
      "cell_type": "code",
      "source": [
        "print(\"Answer:\", response)"
      ],
      "metadata": {
        "colab": {
          "base_uri": "https://localhost:8080/"
        },
        "id": "FadrLzTI9zeH",
        "outputId": "fc50acfe-3d05-4a74-c9ce-fd832d2f58bb"
      },
      "execution_count": 21,
      "outputs": [
        {
          "output_type": "stream",
          "name": "stdout",
          "text": [
            "Answer: That's a great question! AI has incredible potential in the modern era, but using it effectively requires a thoughtful and strategic approach. Here's a breakdown of how we can harness AI's power across different areas:\n",
            "\n",
            "**1. Focus on Problem Solving and Automation:**\n",
            "\n",
            "* **Identify Pain Points:** Instead of just implementing AI for the sake of it, focus on areas where it can truly solve problems. This could be anything from automating repetitive tasks to analyzing complex data for better decision-making.\n",
            "* **Automate Mundane Tasks:** AI excels at handling repetitive and rule-based tasks. This frees up human workers to focus on more creative, strategic, and complex responsibilities. Examples include:\n",
            "    * **Data Entry:** Automating data input and processing.\n",
            "    * **Customer Service:** Implementing AI-powered chatbots for basic inquiries.\n",
            "    * **Scheduling and Logistics:** Optimizing routes, inventory management, and resource allocation.\n",
            "* **Enhance Efficiency:** By automating processes, AI can significantly improve efficiency, reduce errors, and save time and resources.\n",
            "\n",
            "**2. Leverage AI for Enhanced Decision Making:**\n",
            "\n",
            "* **Data Analysis and Insights:** AI algorithms can process massive amounts of data far faster and more accurately than humans. This enables us to identify trends, patterns, and insights that would otherwise be impossible to find.\n",
            "* **Predictive Modeling:** AI can be used to predict future outcomes, allowing for proactive decision-making in areas like:\n",
            "    * **Sales Forecasting:** Predicting future demand to optimize inventory.\n",
            "    * **Risk Assessment:** Identifying potential risks in financial markets or healthcare.\n",
            "    * **Personalized Recommendations:** Providing tailored product or content recommendations to users.\n",
            "* **Improved Accuracy and Objectivity:** AI algorithms are not subject to human biases and can provide more objective analysis, leading to better and more informed decisions.\n",
            "\n",
            "**3. Personalization and Enhanced User Experience:**\n",
            "\n",
            "* **Personalized Content:** AI can tailor content, products, and services to individual user preferences, creating a more engaging and satisfying experience.\n",
            "* **Personalized Learning:** AI-powered educational platforms can adapt to individual learning styles and paces, providing a more effective learning experience.\n",
            "* **Improved Accessibility:** AI can be used to create assistive technologies for people with disabilities, enhancing their access to information and services.\n",
            "\n",
            "**4. Innovation and Research & Development:**\n",
            "\n",
            "* **Accelerated Scientific Discovery:** AI can analyze complex scientific data, accelerating the pace of research and development in fields like medicine, biology, and materials science.\n",
            "* **New Product Development:** AI can help identify new product opportunities by analyzing market trends and user needs.\n",
            "* **Creative Applications:** AI is increasingly being used in creative fields like art, music, and writing, pushing the boundaries of human creativity.\n",
            "\n",
            "**5. Ethical Considerations and Responsible Implementation:**\n",
            "\n",
            "* **Bias Mitigation:** It's crucial to be aware of potential biases in AI algorithms and work to mitigate them. This requires careful data collection, algorithm design, and ongoing monitoring.\n",
            "* **Transparency and Explainability:** We need to understand how AI algorithms make decisions, especially in critical areas like healthcare and finance. Transparency and explainability are key to building trust.\n",
            "* **Data Privacy and Security:** Protecting user data is paramount. We need to implement robust security measures and ensure compliance with data privacy regulations.\n",
            "* **Job Displacement:** Addressing the potential impact of AI on the workforce is crucial. This may involve retraining programs and creating new job opportunities.\n",
            "\n",
            "**Key Principles for Effective AI Implementation:**\n",
            "\n",
            "* **Start Small:** Begin with pilot projects to test and refine your AI strategies before scaling up.\n",
            "* **Focus on ROI:** Prioritize projects that will deliver a tangible return on investment.\n",
            "* **Data Quality:** Ensure that the data used to train AI algorithms is accurate, reliable, and relevant.\n",
            "* **Human-in-the-Loop:** In many cases, AI should augment human capabilities, not replace them entirely.\n",
            "* **Continuous Learning:** AI is a rapidly evolving field. Stay updated on the latest advancements and adapt your strategies accordingly.\n",
            "\n",
            "**In conclusion, using AI effectively in the modern era requires a strategic, ethical, and human-centered approach. By focusing on problem-solving, automation, enhanced decision-making, personalization, innovation, and responsible implementation, we can harness the transformative power of AI to create a better future for all.**\n",
            "\n"
          ]
        }
      ]
    }
  ]
}