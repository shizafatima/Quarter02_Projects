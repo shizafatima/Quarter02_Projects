{
  "nbformat": 4,
  "nbformat_minor": 0,
  "metadata": {
    "colab": {
      "provenance": [],
      "authorship_tag": "ABX9TyMe7cVyaV0KRlfXsSL+mOTk",
      "include_colab_link": true
    },
    "kernelspec": {
      "name": "python3",
      "display_name": "Python 3"
    },
    "language_info": {
      "name": "python"
    }
  },
  "cells": [
    {
      "cell_type": "markdown",
      "metadata": {
        "id": "view-in-github",
        "colab_type": "text"
      },
      "source": [
        "<a href=\"https://colab.research.google.com/github/shizafatima/Quarter02_Projects/blob/main/RAG_Project.ipynb\" target=\"_parent\"><img src=\"https://colab.research.google.com/assets/colab-badge.svg\" alt=\"Open In Colab\"/></a>"
      ]
    },
    {
      "cell_type": "code",
      "execution_count": null,
      "metadata": {
        "colab": {
          "base_uri": "https://localhost:8080/"
        },
        "id": "7-5Bx3kGoiwY",
        "outputId": "683d69d0-1b6a-423d-9118-a767b49cd3f8"
      },
      "outputs": [
        {
          "output_type": "stream",
          "name": "stdout",
          "text": [
            "\u001b[?25l   \u001b[90m━━━━━━━━━━━━━━━━━━━━━━━━━━━━━━━━━━━━━━━━\u001b[0m \u001b[32m0.0/41.3 kB\u001b[0m \u001b[31m?\u001b[0m eta \u001b[36m-:--:--\u001b[0m\r\u001b[2K   \u001b[90m━━━━━━━━━━━━━━━━━━━━━━━━━━━━━━━━━━━━━━━━\u001b[0m \u001b[32m41.3/41.3 kB\u001b[0m \u001b[31m2.7 MB/s\u001b[0m eta \u001b[36m0:00:00\u001b[0m\n",
            "\u001b[2K   \u001b[90m━━━━━━━━━━━━━━━━━━━━━━━━━━━━━━━━━━━━━━━━\u001b[0m \u001b[32m1.2/1.2 MB\u001b[0m \u001b[31m20.4 MB/s\u001b[0m eta \u001b[36m0:00:00\u001b[0m\n",
            "\u001b[2K   \u001b[90m━━━━━━━━━━━━━━━━━━━━━━━━━━━━━━━━━━━━━━━━\u001b[0m \u001b[32m244.8/244.8 kB\u001b[0m \u001b[31m10.5 MB/s\u001b[0m eta \u001b[36m0:00:00\u001b[0m\n",
            "\u001b[2K   \u001b[90m━━━━━━━━━━━━━━━━━━━━━━━━━━━━━━━━━━━━━━━━\u001b[0m \u001b[32m85.4/85.4 kB\u001b[0m \u001b[31m4.1 MB/s\u001b[0m eta \u001b[36m0:00:00\u001b[0m\n",
            "\u001b[?25h"
          ]
        }
      ],
      "source": [
        "%pip install -qU langchain-pinecone langchain-google-genai"
      ]
    },
    {
      "cell_type": "code",
      "source": [
        "from google.colab import userdata\n",
        "\n",
        "from pinecone import Pinecone, ServerlessSpec\n",
        "\n",
        "pinecone_key = userdata.get(\"PINECONE_KEY\")\n",
        "\n",
        "pc = Pinecone(api_key=pinecone_key)"
      ],
      "metadata": {
        "id": "7D1NeuZ4otVk"
      },
      "execution_count": null,
      "outputs": []
    },
    {
      "cell_type": "code",
      "source": [
        "index_name = \"project02-rag\"  # change if desired\n",
        "\n",
        "if index_name not in pc.list_indexes():\n",
        "  pc.create_index(\n",
        "      name=index_name,\n",
        "      dimension=768,\n",
        "      metric=\"cosine\",\n",
        "      spec=ServerlessSpec(cloud=\"aws\", region=\"us-east-1\"),\n",
        "  )\n",
        "else:\n",
        "    print(f\"Index '{index_name}' exists.\")\n",
        "\n",
        "index = pc.Index(index_name)"
      ],
      "metadata": {
        "id": "bvfutB_ToyEF"
      },
      "execution_count": null,
      "outputs": []
    },
    {
      "cell_type": "code",
      "source": [
        "from langchain_google_genai import GoogleGenerativeAIEmbeddings\n",
        "import os\n",
        "\n",
        "os.environ[\"GOOGLE_API_KEY\"] = userdata.get(\"GOOGLE_API_KEY\")\n",
        "\n",
        "embeddings = GoogleGenerativeAIEmbeddings(model=\"models/embedding-001\")\n",
        "vector = embeddings.embed_query(\"hello, world!\")\n",
        "vector[:5]"
      ],
      "metadata": {
        "colab": {
          "base_uri": "https://localhost:8080/"
        },
        "id": "17zAETTeo1--",
        "outputId": "c5861f19-9419-459c-8560-51fbd9a76552"
      },
      "execution_count": null,
      "outputs": [
        {
          "output_type": "execute_result",
          "data": {
            "text/plain": [
              "[0.05168594419956207,\n",
              " -0.030764883384108543,\n",
              " -0.03062233328819275,\n",
              " -0.02802734263241291,\n",
              " 0.01813093200325966]"
            ]
          },
          "metadata": {},
          "execution_count": 16
        }
      ]
    },
    {
      "cell_type": "code",
      "source": [
        "from langchain_pinecone import PineconeVectorStore\n",
        "vector_store = PineconeVectorStore(embedding=embeddings, index=index)"
      ],
      "metadata": {
        "id": "zeAtkeEQo8nC"
      },
      "execution_count": null,
      "outputs": []
    },
    {
      "cell_type": "code",
      "source": [
        "!pip install -qU langchain-community"
      ],
      "metadata": {
        "id": "6BcqU8rlqdI6"
      },
      "execution_count": null,
      "outputs": []
    },
    {
      "cell_type": "code",
      "source": [
        "%pip install -qU pypdf"
      ],
      "metadata": {
        "id": "FsAelvY84v8G"
      },
      "execution_count": null,
      "outputs": []
    },
    {
      "cell_type": "code",
      "source": [
        "from langchain.document_loaders import PyPDFLoader\n",
        "from langchain.text_splitter import RecursiveCharacterTextSplitter\n",
        "\n",
        "# Load documents\n",
        "loader = PyPDFLoader(\"Anatomy of organs.pdf\")  # Replace with your file\n",
        "documents = loader.load()\n",
        "\n",
        "# Split documents into chunks\n",
        "text_splitter = RecursiveCharacterTextSplitter(chunk_size=300, chunk_overlap=50)\n",
        "docs = text_splitter.split_documents(documents)\n",
        "print(docs)"
      ],
      "metadata": {
        "colab": {
          "base_uri": "https://localhost:8080/"
        },
        "id": "5JM1gJY8pCwn",
        "outputId": "36140f06-9794-4906-8eaf-df242da1d29a"
      },
      "execution_count": null,
      "outputs": [
        {
          "output_type": "stream",
          "name": "stdout",
          "text": [
            "[Document(metadata={'source': 'Anatomy of organs.pdf', 'page': 0}, page_content='1-SHORTNOTEONLIVER:-\\nTheliverliesintherightupperquadrantoftheabdomen,immediatelyinferiortothediaphragm.Theliveriscoveredbyaconnectivetissuecapsuleandlayerofvisceralperitoneum.'), Document(metadata={'source': 'Anatomy of organs.pdf', 'page': 0}, page_content='Theliveriscomposedoffourincompletelyseparatedlobes.Themajorlobesaretherightlobeandtheleftlobe.Itispresentontheposteriorside.Therightlobeissubdividedintotwo:\\n1-Caudatelobealongwithligamentumvenosum.\\n2-Quadratelobealongwithligamentumteres.'), Document(metadata={'source': 'Anatomy of organs.pdf', 'page': 0}, page_content='2-Quadratelobealongwithligamentumteres.\\nIthasoneborderi.einferiorborderandthreesurfacesi.eAnteriorsurface,rightsurface,superiorsurface.\\nOntheposteriorsurfacetwoligamentsarepresent.\\n1-Ligamentumvenosum.\\n2-Ligamentumteres.'), Document(metadata={'source': 'Anatomy of organs.pdf', 'page': 0}, page_content='1-Ligamentumvenosum.\\n2-Ligamentumteres.\\nOntheposteriorsurface,ahilumispresentthroughwhicharteriesandveinsenterintheliver.ThishilumiscalledPORTAHEPATIS.\\nBLOODSUPPLYOFLIVER:-\\n-ARTERIALBLOODSUPPLY:-'), Document(metadata={'source': 'Anatomy of organs.pdf', 'page': 0}, page_content='BLOODSUPPLYOFLIVER:-\\n-ARTERIALBLOODSUPPLY:-\\n20-30%bloodisoxygenatedwhichgoesintotheliverthroughaorta.Aortaisdividedintothecommonhepaticartery.Commonhepaticarteryisdividedintotheproperhepaticartery.Thisproperhepaticarteryissubdividedintotherightproperhepaticarteryandtheleftproperhepaticartery.'), Document(metadata={'source': 'Anatomy of organs.pdf', 'page': 0}, page_content='-VENOUSDRAINAGE:-\\n70-80%bloodgoesintotheliverthroughportalveinorhepaticportalvein.Hepaticportalveinisusuallyformedbythemergingofthesuperiormesentericveinsandsplenicveins.Theportalveinsplitsintotheleftandrightveinbeforeenteringtheliver.Therightveinthenbranchesoffintotheanteriorveinandsuperiorvein.'), Document(metadata={'source': 'Anatomy of organs.pdf', 'page': 0}, page_content='1-Foregutdrainsbloodintothesplenicvein.\\n2-Midgutdrainsbloodintothesuperiormesentericvein.\\n3-Hindgutdrainsbloodintotheinferiormesentericvein.'), Document(metadata={'source': 'Anatomy of organs.pdf', 'page': 1}, page_content='Inferiormesentericveinmergedwithsplenicveinandmadeonevein.Thenthisveinandsuperiormesentericveinbringsbloodtotheliverforoxygenation.\\n2-SHORTNOTEONPANCREAS:-'), Document(metadata={'source': 'Anatomy of organs.pdf', 'page': 1}, page_content='Thepancreasisaglandorgan.Itislocatedbehindthestomachandissurroundedbyotherorgans,includingthespleen,liverandsmallintestine.Itisclassifiedasbothendocrineandexocrineinfunction.Pancreasproducesajuicethatcontainsenzymes(amylaseandinsulin)tobreakdowncarbohydrates,fatsandproteins.Itsecretesthejuiceintoth'), Document(metadata={'source': 'Anatomy of organs.pdf', 'page': 1}, page_content='ohydrates,fatsandproteins.Itsecretesthejuiceintotheduodenumthroughthepancreaticduct.Ithas4parts:'), Document(metadata={'source': 'Anatomy of organs.pdf', 'page': 1}, page_content='1-Head\\n2-Neck\\n3-Body\\n4-Tail\\nPancreasalsocontainaccessorypancreaticductswhicharisefromtheforegut.\\nInpancreasligamentsarepresentsuchasthehepatoduodenalligament,gastrohepaticligament,splenorenalligament,gastrocolicligament,andthegreateromentum.\\nBLOODSUPPLYOFPANCREAS:-\\n-ARTERIALBLOODSUPPLY:-'), Document(metadata={'source': 'Anatomy of organs.pdf', 'page': 1}, page_content='Themainvascularsupplyofthepancreasisgovernedbythesplenicarteryanditssubsequentbranches,whichstemfromtheceliactrunkoftheaortaatthelevelof12ththoracicvertebrae.Italsoreceivesbloodfromthesuperiormesentericartery,thegastroduodenalarteryandalsothesuperiorandinferiorpancreaticoduodenalartery.'), Document(metadata={'source': 'Anatomy of organs.pdf', 'page': 1}, page_content='-VENOUSDRAINAGE:-\\nThevenousdrainageofthepancreasoccursmainlybythesplenicvein,whichmergeswiththesuperiormesentericveinandenterstheliverastheportalvein.\\n3-BLOODSUPPLYOFSTOMACH:-'), Document(metadata={'source': 'Anatomy of organs.pdf', 'page': 2}, page_content='1-LeftGastricArterywhichsuppliesoesophagusandstomach.\\n2-SplenicArterywhichsuppliesspleen.\\n3-ShortGastricArterywhichsuppliesthefundusofthestomach.\\n4-Gastro-omentalArterywhichsuppliestheuppersurfaceofthestomach.\\n5-CommonHepaticArterywhicharisefromcardiactrunkanddividedintotwoparts:'), Document(metadata={'source': 'Anatomy of organs.pdf', 'page': 2}, page_content='(a)Properhepaticwhichgoestowardtheliver.\\n-RightGastricArteryarisesfromproperhepaticarteryandsuppliesthelowerpartoflessercurvature.\\n(b)GastroduodenalArterysuppliesbloodtothepyloricangle(lowerlessercurvature).FromthisarteryGastro-omentalarteryariseswhichsuppliesthelowerpartofgreatercurvature.'), Document(metadata={'source': 'Anatomy of organs.pdf', 'page': 2}, page_content='4-DIFFERENCEBETWEENSMALLANDLARGEINTESTINE:-\\n-SMALLINTESTINE:-'), Document(metadata={'source': 'Anatomy of organs.pdf', 'page': 2}, page_content=\"Smallintestinemeasuresaround4.5-7.0minsize.Itisnarrowinwidth.Smallintestinehasthreeparts,whichareduodenum,jejunumandileum.Internalsurfaceofthesmallintestinehascircularfolds,alsocalled'plicaecirculares'.Villiarepresentwhichhelpsinabsorptionofnutrients.Peyer'sPatchesarepresentinthesmallintestine.Itfo\"), Document(metadata={'source': 'Anatomy of organs.pdf', 'page': 2}, page_content=\"s.Peyer'sPatchesarepresentinthesmallintestine.Itformsthelayerofcontinuousbandsofmusclesaroundit.Itshowssmallmovementsintheabdominalcavity.Insmallintestinedigestioniscomplicated.Numeroushormonesaresecretedduringdigestioninthesmallintestine.Itabsorbsnutrientsfromthedigestedfood.\"), Document(metadata={'source': 'Anatomy of organs.pdf', 'page': 2}, page_content='-LARGEINTESTINE:-'), Document(metadata={'source': 'Anatomy of organs.pdf', 'page': 2}, page_content='Largeintestinemeasuresaround1.5minsize.Ithasfourparts,whicharecolon,rectum,caecumandanalcanal.Itisreducedtothreetypesofmusclebandscalledtaeniaecoli.Largeintestineisfixedorshowsverylittlemobility.Haustrasarepresent.Epiploicappendagesarepresent.Ittakespartinabsorptionofwaterandelectrolytesandinproduc'), Document(metadata={'source': 'Anatomy of organs.pdf', 'page': 2}, page_content='spartinabsorptionofwaterandelectrolytesandinproductionofvitamins.Ithaslessmobilityandislargelyfixed.'), Document(metadata={'source': 'Anatomy of organs.pdf', 'page': 3}, page_content='5-NAMESOFABDOMINALAORTABRANCHES:-\\n• Anteriorgroup• Coeliactrunk• Superiormesentericartery• Inferiormesentericartery \\n• Lateralgroup• Middlesuprarenalartery• Renalartery• Testicularorovarianartery \\n• Dorsalgroup• Inferiorphrenicartery• Fourlumbararteries• Mediansacralartery'), Document(metadata={'source': 'Anatomy of organs.pdf', 'page': 3}, page_content='• Terminalbranches• Rightandleftcommoniliacarteries\\n• Unpaired• Coeliactrunk• Superiormesentericartery• Inferiormesentericartery• Mediansacralartery \\n• Paired• Middlesuprarenalartery• Renalartery• Testicularorovarianartery• Inferiorphrenicartery• Fourlumbararteries• Rightandleftcommoniliacarteries'), Document(metadata={'source': 'Anatomy of organs.pdf', 'page': 3}, page_content='• Visceral• Coeliactrunk• Superiormesentericartery• Inferiormesentericartery• Middlesuprarenalartery• Renalartery• Testicularorovarianartery \\n• Parietal• Inferiorphrenicartery'), Document(metadata={'source': 'Anatomy of organs.pdf', 'page': 4}, page_content='• Fourlumbararteries• Mediansacralartery\\n6-SHORTNOTEONPORTALVEIN:-'), Document(metadata={'source': 'Anatomy of organs.pdf', 'page': 4}, page_content='Theportalveinisanimportantvenouschannelthatcollectsbloodfromtheabdominalandpelvicpartsofdigestivetract(excludinglowerpartofanalcanal),pancreas,spleenandgallbladder.TheportalveinisformedposteriortotheneckofpancreasbytheunionofsuperiormesentericandsplenicveinsatthelevelofL2vertebra.Theportalveintermi'), Document(metadata={'source': 'Anatomy of organs.pdf', 'page': 4}, page_content='enicveinsatthelevelofL2vertebra.Theportalveinterminatesintorightandleftbranchesatportahepatis.'), Document(metadata={'source': 'Anatomy of organs.pdf', 'page': 4}, page_content='Tributaries\\n• Tributariestotheportalveininclude:\\n• rightandleftgastricveinsdrainingthelessercurvatureofthestomachandabdominalesophagus,\\n• cysticveinsfromthegallbladder,and theparaumbilicalveins,whichareassociatedwiththeobliteratedumbilicalveinandconnecttoveinsontheanteriorabdominalwall'), Document(metadata={'source': 'Anatomy of organs.pdf', 'page': 4}, page_content='VenousDrainage\\n• Theveinsaccompanyingtheileocolic,rightcolicandmiddlecolicarteriesjointhesuperiormesentericveinwhiletheveinsaccompanyingthebranchesofinferiormesentericarteryjointheinferiormesentericvein.Boththeveinsultimatelydrainintoportalcirculation.\\n7-SHORTNOTEONURINARYSYSTEM:-'), Document(metadata={'source': 'Anatomy of organs.pdf', 'page': 4}, page_content='7-SHORTNOTEONURINARYSYSTEM:-\\nTheurinarysystem,alsoknownastherenalsystemorurinarytract,consistsofthekidneys,ureters,bladder,andtheurethra.\\nI-KIDNEYS:-'), Document(metadata={'source': 'Anatomy of organs.pdf', 'page': 4}, page_content='Thekidneysarelocatedbetweenthelevelsofthelastthoracicandthirdlumbarvertebrae.Theupperextentoftherightkidneyapproximatelycorrespondstothetwelfthribandthatofleftkidneytotheeleventhrib.Kidneysareretroperitonealorgans.Liebehindtheperitoneum.•'), Document(metadata={'source': 'Anatomy of organs.pdf', 'page': 4}, page_content='EachkidneyhasadarkbrownouterCORTEXandalightbrowninnermedulla.• Thecortexiscomposedofaboutamillionormorenephronsperkidney.•'), Document(metadata={'source': 'Anatomy of organs.pdf', 'page': 4}, page_content='Themedullaconsistsofabout6to12pyramids.Thepyramidiscomposedofcollectingductsandtheapparatusforconcentrationofurine.TheapexofeachpyramidextendsintotheminorcalyxasasmallprojectioncalledtheRenalpapilla'), Document(metadata={'source': 'Anatomy of organs.pdf', 'page': 4}, page_content='• Thecortexextendsintothemedullabetweenadjacentpyramidsastherenalcolumns.\\n• TheRENALSINUS,whichisthespacewithinthehilum,containstheupperexpandedendoftheureter,thepelvis.\\nSurfacesandBorders:-Eachkidneyhastwopoles,twosurfacesandtwoborders.\\nHilum:-'), Document(metadata={'source': 'Anatomy of organs.pdf', 'page': 5}, page_content='Theconcavemedialbordershowsthedepressionofthehilum.Thearrangementofthestructuresatthehiluminanteroposteriororderis,renalvein,renalarteryandrenalpelvis.Lymphvesselsandsympatheticfibersalsopassthroughthehilum.'), Document(metadata={'source': 'Anatomy of organs.pdf', 'page': 5}, page_content='-ARTERIALSUPPLYOFKIDNEY:-Therenalarteriesarethedirectbranchesofabdominalaorta.Eachrenalarterydividesintoananteriorandposteriordivisionnearthehilum.Arteriesofkidneysare:Renalartery→segmentalarteries→Lobararteries→interlobararteries→arcuatearteries→interlobulararteries→afferentglomerulararterioles'), Document(metadata={'source': 'Anatomy of organs.pdf', 'page': 5}, page_content='-VEINS:-Theinterlobularveinsdraintheperitubularplexusesinthecortex,whichdraininsuccessionintoarcuate,interlobular,interlobar,segmentalandlastlytherenalvein.'), Document(metadata={'source': 'Anatomy of organs.pdf', 'page': 5}, page_content='II-URETERS:-Theuretersareapairofnarrow,thickwalledmusculartubeswhichconveyurinefromkidneystotheurinarybladderLiedeeptoperitoneum,closelyappliedtotheposteriorabdominalwallintheupperpart,andtothelateralpelvicpartinthelowerpart.Itconsistofthreeparts:-Renalpelvis-Abdominal-Pelvic-RENALPELVIS:-Funnelsha'), Document(metadata={'source': 'Anatomy of organs.pdf', 'page': 5}, page_content='enalpelvis-Abdominal-Pelvic-RENALPELVIS:-FunnelshapeddilatationatupperpartFormedbyunionofmajorcalycesPassesdownwardsandmediallythroughhilum.-ABDOMINAL:-Passesdownwardsandmediallybypassingbeneaththeperitoneumandentersthepelviccavitybycrossing'), Document(metadata={'source': 'Anatomy of organs.pdf', 'page': 5}, page_content='terminationofcommoniliac.-PELVIC:-Itispresent downwardsbeneaththeperitoneumalonggreatersciaticnotch&reachesischialspine.thenforwardandmedially,throughextraperitonealtissuereachesthesuperolateralangleofthebladder5cmfromtheoppositeureter.'), Document(metadata={'source': 'Anatomy of organs.pdf', 'page': 5}, page_content='3-NORMALCONSTRICTIONS:-\\n(1)Atpelviuretericjunction\\n(2)atbrimoflesserpelvis\\n(3)atpassagethroughbladderwall\\n-ARTERIALSUPPLYOFURETER:-\\n-UpperPart→therenalartery-Middleportion→thetesticularorovarianartery-PelvicPart→thesuperiorvesicalartery-NERVESUPPLYOFURETER:-'), Document(metadata={'source': 'Anatomy of organs.pdf', 'page': 5}, page_content='-Renal,testicular(orovarian),andhypogastricplexuses\\n-Sympathetic- T10-L1'), Document(metadata={'source': 'Anatomy of organs.pdf', 'page': 6}, page_content='-Parasympathetic- S2-S4\\nIII-BLADDER:-Theurinarybladderorsimplybladderisahollowmuscularorganinhumansandvertebratesthatcollectsandstoresurinefromthekidneysbeforedisposalbyurination.Inthehumanthebladderisahollowmuscular,anddistensible(orelastic)organ,thatsitsonthepelvicfloor.-ARTERIALSUPPLYOFBLADDER:-'), Document(metadata={'source': 'Anatomy of organs.pdf', 'page': 6}, page_content='-Superiorvesicalartery\\n-Inferiorvesicalartery\\n-Umbilicalartery\\n-Vaginalartery\\n-VENOUSSUPPLYOFBLADDER:--Vesicalvenousplexus\\nIV-URETHRA:-Theurethraisatubethatconnectstheurinarybladdertotheurinarymeatusfortheremovalofurinefromthebodyofbothfemalesandmales.'), Document(metadata={'source': 'Anatomy of organs.pdf', 'page': 6}, page_content='-ARTERIALSUPPLYOFURETHRA:--Inferiorvesicalartery-Medialrectalartery-Internalpudendalartery\\n-VENOUSSUPPLYOFURETHRA:--Inferiorvesicalvein-Medialrectalvein-Internalpudendalvein'), Document(metadata={'source': 'Anatomy of organs.pdf', 'page': 6}, page_content='8-SHORTNOTEONFEMALEINTERNALGENITALSYSTEM:-Theinternalgenitalorgansofthefemalereproductivesystemarethecervix,uterus,Fallopiantubes,andovaries.'), Document(metadata={'source': 'Anatomy of organs.pdf', 'page': 6}, page_content='-CERVIX:-Thecervixistheneckoftheuterus,thelower,narrowportionwhereitjoinswiththeupperpartofthevagina.Itiscylindricalorconicalinshapeandprotrudesthroughtheupperanteriorvaginalwall.-UTERUS:-Theuterusisapear-shapedmuscularorgan.Itsmajorfunctionistoacceptafertilizedovumwhichbecomesimplantedintotheendom'), Document(metadata={'source': 'Anatomy of organs.pdf', 'page': 6}, page_content='ptafertilizedovumwhichbecomesimplantedintotheendometrium,andderivesnourishmentfrombloodvesselswhichdevelopexclusivelyforthispurpose.Thefertilizedovumbecomesanembryo,developsintoafetusandgestatesuntilchildbirth.Iftheeggdoesnotembedinthewalloftheuterus,afemalebeginsmenstruation.'), Document(metadata={'source': 'Anatomy of organs.pdf', 'page': 7}, page_content=\"-FALLOPIANTUBES:-TheFallopiantubesaretwotubesleadingfromtheovariesintotheuterus.Onmaturityofanovum,thefollicleandtheovary'swallrupture,allowingtheovumtoescapeandentertheFallopiantube.Thereittravelstowardtheuterus,pushedalongbymovementsofciliaontheinnerliningofthetubes.Iftheovumisfertilizedwhileinthe\"), Document(metadata={'source': 'Anatomy of organs.pdf', 'page': 7}, page_content='erliningofthetubes.IftheovumisfertilizedwhileintheFallopiantube,thenitnormallyimplantsintheendometriumwhenitreachestheuterus,whichsignalsthebeginningofpregnancy.Thefallopiantubesmadeupofciliatedcolumnarepitheliumtissues-OVARIES:-Theovariesaresmall,pairedorganslocatednearthelateralwallsofthepelviccav'), Document(metadata={'source': 'Anatomy of organs.pdf', 'page': 7}, page_content='iredorganslocatednearthelateralwallsofthepelviccavity.Theseorgansareresponsiblefortheproductionoftheeggcells(ova)andthesecretionofhormones.Theprocessbywhichtheeggcell(ovum)isreleasediscalledovulation.'), Document(metadata={'source': 'Anatomy of organs.pdf', 'page': 7}, page_content='9-HISTOLOGICALFEATURESOFTONGUEESOPHAGUSANDSTOMACH:-'), Document(metadata={'source': 'Anatomy of organs.pdf', 'page': 7}, page_content='(a)TONGUE:-Thetongueisamassofinterlacingskeletalmuscle,connectivetissuewithsomemucousandserousglands,andpocketsofadiposetissue,coveredinoralmucosa.AV-shapedline(shallowgroove)-thesulcusterminalis,dividesthetongueintoananterior⅔'), Document(metadata={'source': 'Anatomy of organs.pdf', 'page': 7}, page_content='andaposterior⅓.Themucosacoveringtheuppersurfaceofthetongueisthrownintonumerousprojectionscalledthelingualpapillaeintheanterior⅔ofthetongue.Intheposterior⅓,therearenopapillae,buttherearelotsoflymphoidfolliclespresent.Thethreetypesofpapillaeare:1-Fungiform(mushroomlike):-Fungiformpapillaearenotkerati'), Document(metadata={'source': 'Anatomy of organs.pdf', 'page': 7}, page_content='iform(mushroomlike):-Fungiformpapillaearenotkeratinised,butarehighlyvascularised.Intheliving,theylookred.Mostofthefungiformpapillaehavesometastebuds.2-Filiform(filum-threadlike):-Filiformpapillaearethemostcommon.Theyarekeratinisedandintheliving,theylookwhite.3-Circumvallate:-Thesepapillaehavetastebu'), Document(metadata={'source': 'Anatomy of organs.pdf', 'page': 7}, page_content=\"ookwhite.3-Circumvallate:-Thesepapillaehavetastebudsinthemedialwallsofthecleft.Thesepapillaearelargerthantheothertwotypesofpapillae.Glands,calledVon-Ebner'sglands(serousglands)openintothecleft.\"), Document(metadata={'source': 'Anatomy of organs.pdf', 'page': 7}, page_content='(b)ESOPHAGUS:-Intheesophagustheselayersarespecializedforrapidbulkmovementoffoodfromthemouthtothestomachandlittleinthewayofabsorptionorsecretion.>EsophagealMucosa:--Esophagealepithelium:Theesophagealepitheliumisannonkeratinizedstratifiedsquamousepitheliumdesignedtoprotecttheesophagusasitconductsfood'), Document(metadata={'source': 'Anatomy of organs.pdf', 'page': 7}, page_content='eliumdesignedtoprotecttheesophagusasitconductsfooddownwards.-EsophagealLaminaPropria:FairlythinandcontainsafewlymphoidaggregatesEsophagealMuscularisMucosa:Isalsofairlythinandinsignificant-EsophagealSubmucosa:Thecollagenousesophagealsubmucosaisfairlylooseandcanbesignificantlydistendedinordertoaccommo'), Document(metadata={'source': 'Anatomy of organs.pdf', 'page': 7}, page_content='ooseandcanbesignificantlydistendedinordertoaccommodatepassingfoodboluses.Smallglandsarealsovisibleinthislayerthatsecretemucuswhichlubricatesthepassageoffood.>EsophagealMuscularisPropria:Themuscularisoftheesophagusisthemostprominentlayerandallowsforpowerfulperistalsis.>EsophagealAdventitia:Isarelativ'), Document(metadata={'source': 'Anatomy of organs.pdf', 'page': 7}, page_content='werfulperistalsis.>EsophagealAdventitia:Isarelativelythinlayerofcollagenoustissuewhichinveststheentireesophagus.'), Document(metadata={'source': 'Anatomy of organs.pdf', 'page': 8}, page_content='(c)STOMACH:-Thestomachwallconsistsof4layersoftissue.I-Mucosa-Surfacemucosacells-Gastricpits-Gastricglands-LaminapropriaandMuscularismucosaeII-SubmucosaIII-MuscularisexternaIV-Serosa'), Document(metadata={'source': 'Anatomy of organs.pdf', 'page': 8}, page_content='I-MUCOSA:-Theinnermostlayerofthestomachwallisthegastricmucosa.Itisformedbyalayerofsurfaceepitheliumandanunderlyinglaminapropriaandmuscularismucosae.Thesurfaceepitheliumisasimplecolumnarepithelium.-Surfacemucosacells:-Thesurfacemucouscells,alsoknownasfoveolarepithelium,arethesimplecolumnarepithelium'), Document(metadata={'source': 'Anatomy of organs.pdf', 'page': 8}, page_content='sfoveolarepithelium,arethesimplecolumnarepitheliumliningthelumenofthestomach.-Gastricpits:-Gastricpitsareformedbyinvaginationsofthesurfaceepithelium.Gastricpitsconnecttogastricglandsandthusallowtheglandularproductstobedeliveredintothestomachlumen.-Gastricglands:-Gastricglandsopenintothebaseofgastric'), Document(metadata={'source': 'Anatomy of organs.pdf', 'page': 8}, page_content='stricglands:-Gastricglandsopenintothebaseofgastricpits.Theyarefoundthroughouttheentireinnersurfaceofthestomachandaredividedinto3types:i-Gastricglandsproperii-Pyloricglandsiii-Cardiacglands-LaminapropriaandMuscularismucosae:-Thelaminapropriaisthelayerofconnectivetissuelocatedjustdeeptothesurfaceepith'), Document(metadata={'source': 'Anatomy of organs.pdf', 'page': 8}, page_content='ofconnectivetissuelocatedjustdeeptothesurfaceepithelium.Itcontainsbloodandlymphaticvessels,lymphoidtissueandsurroundsthegastricglands.Themuscularismucosaelayerconsistsoftwothinlayersofsmoothmuscle.Itseparatesthelaminapropriafromtheunderlyingsubmucosa.Theinnermuscularismucosaeconsistsofcircularfibres'), Document(metadata={'source': 'Anatomy of organs.pdf', 'page': 8}, page_content='.Theinnermuscularismucosaeconsistsofcircularfibreswhiletheouterlayerfibresarearrangedlongitudinally.'), Document(metadata={'source': 'Anatomy of organs.pdf', 'page': 8}, page_content='II-SUBMUCOSA:-Deeptothemucosaisathicklayerofconnectivetissueknownasthegastricsubmucosa.Itsarrangementmeansthatitisdurable,yetflexibleandmobile.Thislayeralsoholdsthesubmucosal(Meissner’s)plexus.Thenervefibresofthisplexuscarryparasympatheticinnervationtothebloodvesselsandsmoothmuscleofthestomachwall.'), Document(metadata={'source': 'Anatomy of organs.pdf', 'page': 8}, page_content='III-MUSCULARISEXTERNA:-Thegastricmuscularisexterna,alsoknownastunicamuscularis,isthesmoothmusclelocateddeeptothesubmucosa.Itismadeupof3layers:inneroblique,middlecircularandouterlongitudinal.Themuscularisexternalayerproduceschurningmovementsrequiredformechanicaldigestion.Whentheselayerscontract,they'), Document(metadata={'source': 'Anatomy of organs.pdf', 'page': 8}, page_content='ormechanicaldigestion.Whentheselayerscontract,theythrowthemucosaandsubmucosaintorugae.'), Document(metadata={'source': 'Anatomy of organs.pdf', 'page': 8}, page_content='IV-SEROSA:-Gastricserosaistheoutermostlayerofthestomachwall.Itconsistsofalayerofsimplesquamousepithelium,knownasmesothelium,andathinlayerofunderlyingconnectivetissue.The'), Document(metadata={'source': 'Anatomy of organs.pdf', 'page': 9}, page_content='mesotheliumproducesserousfluid,whichlubricatestheouterwallofthestomachandensuresitssmoothmovementintheabdominalcavity.Theserosaiscontinuouswiththeparietalperitoneum.Itisabsentattheattachmentsitesofthegreaterandlesseromentumtothestomach,aswellasoverasmallsuperoposteriorareanearthecardiacorificewheret'), Document(metadata={'source': 'Anatomy of organs.pdf', 'page': 9}, page_content='mallsuperoposteriorareanearthecardiacorificewherethestomachisattachedtothediaphragmviagastrophrenicandgastropancreaticfolds.')]\n"
          ]
        }
      ]
    },
    {
      "cell_type": "code",
      "source": [
        "len(documents)"
      ],
      "metadata": {
        "colab": {
          "base_uri": "https://localhost:8080/"
        },
        "id": "50MExily45CE",
        "outputId": "e2a63162-4382-44bb-d80a-93f41ab2e646"
      },
      "execution_count": null,
      "outputs": [
        {
          "output_type": "execute_result",
          "data": {
            "text/plain": [
              "10"
            ]
          },
          "metadata": {},
          "execution_count": 19
        }
      ]
    },
    {
      "cell_type": "code",
      "source": [
        "from uuid import uuid4\n",
        "\n",
        "uuids = [str(uuid4()) for _ in range(len(documents))]\n",
        "\n",
        "vector_store.add_documents(documents=documents, ids=uuids)"
      ],
      "metadata": {
        "colab": {
          "base_uri": "https://localhost:8080/"
        },
        "id": "UmwSF3jIqjtt",
        "outputId": "dfcd9275-84f7-4ff0-de25-d340277bc551"
      },
      "execution_count": null,
      "outputs": [
        {
          "output_type": "execute_result",
          "data": {
            "text/plain": [
              "['f81e86c7-2c4d-4891-bba3-b9f7780b8853',\n",
              " '31e6dc6a-c743-4ef2-b928-83abc72cb0df',\n",
              " 'df5c6848-64ca-44b8-9e6a-9ccfe31dd3e3',\n",
              " 'e6aa3ac0-db9c-4605-8856-bcd91f74c7bc',\n",
              " '31017630-3ddf-442d-9b62-4149503ba382',\n",
              " '654483b3-1475-403f-82e3-2b30cc6a457c',\n",
              " '70dbef6a-ad41-43a8-8122-f75c4e8b8242',\n",
              " 'a7d58d47-3e31-4239-8ddc-46f86bb36bff',\n",
              " '5f4e9927-bbe8-4fc8-918e-953a7284b63a',\n",
              " '7c81f431-6476-434a-b83d-2e90c0282c05']"
            ]
          },
          "metadata": {},
          "execution_count": 20
        }
      ]
    },
    {
      "cell_type": "code",
      "source": [
        "!pip install tqdm"
      ],
      "metadata": {
        "colab": {
          "base_uri": "https://localhost:8080/"
        },
        "id": "ZIc77hOJsbvc",
        "outputId": "658d1449-a3ce-423a-8a89-aff91a461763"
      },
      "execution_count": null,
      "outputs": [
        {
          "output_type": "stream",
          "name": "stdout",
          "text": [
            "Requirement already satisfied: tqdm in /usr/local/lib/python3.10/dist-packages (4.67.1)\n"
          ]
        }
      ]
    },
    {
      "cell_type": "code",
      "source": [
        "from tqdm import tqdm\n",
        "\n",
        "# Create embeddings and upload to Pinecone\n",
        "vectors=[]\n",
        "for doc in tqdm(docs):\n",
        "    vector = embeddings.embed_query(doc.page_content)\n",
        "    # Generate a unique ID for each document (e.g., UUID or hash)\n",
        "    doc_id = str(hash(doc.page_content))\n",
        "    # Upsert the vector with a unique ID\n",
        "    index.upsert(vectors=[(doc_id, vector, {\"text\": doc.page_content})])"
      ],
      "metadata": {
        "colab": {
          "base_uri": "https://localhost:8080/"
        },
        "id": "vbPZj8iIsfke",
        "outputId": "e6199a2d-6d3f-45fb-d60f-11c96a325bee"
      },
      "execution_count": null,
      "outputs": [
        {
          "output_type": "stream",
          "name": "stderr",
          "text": [
            "100%|██████████| 72/72 [00:16<00:00,  4.30it/s]\n"
          ]
        }
      ]
    },
    {
      "cell_type": "code",
      "source": [
        "from langchain.vectorstores import Pinecone\n",
        "\n",
        "\n",
        "retriever=  Pinecone(index=index, embedding=embeddings, text_key=\"text\")\n",
        "\n",
        "\n",
        "# Convert it into a retriever compatible with RetrievalQA\n",
        "retriever = vector_store.as_retriever()"
      ],
      "metadata": {
        "colab": {
          "base_uri": "https://localhost:8080/"
        },
        "id": "f7bZTlarsnYo",
        "outputId": "0ba8091f-392b-4346-ba4e-e6d4728137f2"
      },
      "execution_count": null,
      "outputs": [
        {
          "output_type": "stream",
          "name": "stderr",
          "text": [
            "<ipython-input-23-b373e6fbbf23>:4: LangChainDeprecationWarning: The class `Pinecone` was deprecated in LangChain 0.0.18 and will be removed in 1.0. An updated version of the class exists in the :class:`~langchain-pinecone package and should be used instead. To use it run `pip install -U :class:`~langchain-pinecone` and import as `from :class:`~langchain_pinecone import Pinecone``.\n",
            "  retriever=  Pinecone(index=index, embedding=embeddings, text_key=\"text\")\n"
          ]
        }
      ]
    },
    {
      "cell_type": "code",
      "source": [
        "from langchain_google_genai import ChatGoogleGenerativeAI\n",
        "\n",
        "from google.colab import userdata\n",
        "GOOGLE_API_KEY = userdata.get('GOOGLE_API_KEY')\n",
        "\n",
        "llm : ChatGoogleGenerativeAI = ChatGoogleGenerativeAI(\n",
        "    model=\"gemini-2.0-flash-exp\",\n",
        "    api_key= GOOGLE_API_KEY,\n",
        "    temprature = 0.9,\n",
        "    max_tokens = 200\n",
        ")\n"
      ],
      "metadata": {
        "id": "fA-dAeKktt6v"
      },
      "execution_count": null,
      "outputs": []
    },
    {
      "cell_type": "code",
      "source": [
        "from langchain.chains import RetrievalQA\n",
        "\n",
        "qa_chain = RetrievalQA.from_chain_type(\n",
        "    llm=llm,\n",
        "    chain_type=\"refine\",  # Other options: \"map_reduce\", \"refine\"\n",
        "    retriever=retriever\n",
        ")"
      ],
      "metadata": {
        "id": "0s6Sx4Vqsrv0"
      },
      "execution_count": null,
      "outputs": []
    },
    {
      "cell_type": "code",
      "source": [
        "query = \"How many parts of Pancreas? Name them.\"\n",
        "response = qa_chain.run(query)\n",
        "print(response)"
      ],
      "metadata": {
        "colab": {
          "base_uri": "https://localhost:8080/"
        },
        "id": "e80xAe9TunTf",
        "outputId": "89d3fc45-ba20-44c0-de26-552766a31d57"
      },
      "execution_count": null,
      "outputs": [
        {
          "output_type": "stream",
          "name": "stdout",
          "text": [
            "The new context provides information about the blood supply to the pancreas, which is interesting but **not relevant** to the question of how many parts the pancreas has and what they are called.\n",
            "\n",
            "Therefore, the original answer remains the best and most accurate response to the question:\n",
            "\n",
            "**The pancreas has 4 parts. They are:**\n",
            "\n",
            "1.  **Head**\n",
            "2.  **Neck**\n",
            "3.  **Body**\n",
            "4.  **Tail**\n",
            "\n"
          ]
        }
      ]
    }
  ]
}